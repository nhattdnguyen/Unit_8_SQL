{
 "cells": [
  {
   "cell_type": "code",
   "execution_count": 1,
   "id": "94060486",
   "metadata": {},
   "outputs": [],
   "source": [
    "from sqlalchemy import create_engine\n",
    "import sqlite3\n",
    "import pandas as pd"
   ]
  },
  {
   "cell_type": "code",
   "execution_count": 2,
   "id": "94417a50",
   "metadata": {},
   "outputs": [
    {
     "name": "stdout",
     "output_type": "stream",
     "text": [
      "Database created and Successfully Connected to SQLite\n",
      "SQLite Database Version is:  [('3.35.4',)]\n"
     ]
    }
   ],
   "source": [
    "try:\n",
    "    sqliteConnection = sqlite3.connect('./SQLFiles Tier 2/sqlite_db_pythonsqlite.db') # create a new database if it cant find a local one\n",
    "    cursor = sqliteConnection.cursor() # create a cursor object to execute SQL commands from Python\n",
    "    print(\"Database created and Successfully Connected to SQLite\")\n",
    "\n",
    "    sqlite_select_Query = \"select sqlite_version();\"\n",
    "    cursor.execute(sqlite_select_Query) # use execute to run SQL commands\n",
    "    record = cursor.fetchall() #read results\n",
    "    print(\"SQLite Database Version is: \", record)\n",
    "    #cursor.close()\n",
    "\n",
    "except sqlite3.Error as error:\n",
    "    print(\"Error while connecting to sqlite\", error)\n",
    "#finally:\n",
    "#    if sqliteConnection:\n",
    "#        sqliteConnection.close()\n",
    "#        print(\"The SQLite connection is closed\")"
   ]
  },
  {
   "cell_type": "markdown",
   "id": "5d3d0350",
   "metadata": {},
   "source": [
    "Q.10 Produce a list of facilities with a total revenue less than 1000.\n",
    "The output of facility name and total revenue, sorted by revenue. Remember\n",
    "that there's a different cost for guests and members!"
   ]
  },
  {
   "cell_type": "code",
   "execution_count": 4,
   "id": "ec51ea57",
   "metadata": {},
   "outputs": [
    {
     "name": "stdout",
     "output_type": "stream",
     "text": [
      "     Facility_name  revenue\n",
      "0       Pool Table    270.0\n",
      "1     Table Tennis    180.0\n",
      "2    Snooker Table    240.0\n",
      "3     Squash Court  13468.0\n",
      "4  Badminton Court   1906.5\n",
      "5   Tennis Court 1  13860.0\n",
      "6   Tennis Court 2  14310.0\n",
      "7   Massage Room 1  50351.6\n",
      "8   Massage Room 2  14454.6\n"
     ]
    }
   ],
   "source": [
    "rs1 = cursor.execute(\"SELECT name, SUM(revenue) FROM (SELECT f.facid, f.name, CASE WHEN b.memid = 0 THEN guestcost*slots ELSE membercost*slots END AS revenue FROM Facilities AS f LEFT JOIN Bookings AS b ON b.facid = f.facid) AS sub_query GROUP BY facid ORDER BY revenue\")\n",
    "results1 = pd.DataFrame(rs1.fetchall())\n",
    "results1.columns = [\"Facility_name\", \"revenue\"]\n",
    "print(results1)"
   ]
  },
  {
   "cell_type": "markdown",
   "id": "15ba9ce0",
   "metadata": {},
   "source": [
    "Q.11 Produce a report of members and who recommended them in alphabetic surname,firstname order"
   ]
  },
  {
   "cell_type": "code",
   "execution_count": 5,
   "id": "3dfacd9c",
   "metadata": {},
   "outputs": [
    {
     "name": "stdout",
     "output_type": "stream",
     "text": [
      "                     member      recommendedby\n",
      "0            Bader Florence    Stibbons Ponder\n",
      "1                Baker Anne    Stibbons Ponder\n",
      "2             Baker Timothy     Farrell Jemima\n",
      "3                Boothe Tim         Rownam Tim\n",
      "4            Butters Gerald       Smith Darren\n",
      "5               Coplin Joan      Baker Timothy\n",
      "6             Crumpet Erica        Smith Tracy\n",
      "7                Dare Nancy    Joplette Janice\n",
      "8           Genting Matthew     Butters Gerald\n",
      "9                 Hunt John  Purview Millicent\n",
      "10              Jones David    Joplette Janice\n",
      "11            Jones Douglas        Jones David\n",
      "12          Joplette Janice       Smith Darren\n",
      "13           Mackenzie Anna       Smith Darren\n",
      "14             Owen Charles       Smith Darren\n",
      "15             Pinker David     Farrell Jemima\n",
      "16        Purview Millicent        Smith Tracy\n",
      "17         Rumney Henrietta    Genting Matthew\n",
      "18         Sarwin Ramnaresh     Bader Florence\n",
      "19               Smith Jack       Smith Darren\n",
      "20          Stibbons Ponder       Tracy Burton\n",
      "21  Worthington-Smyth Henry        Smith Tracy\n"
     ]
    }
   ],
   "source": [
    "rs2 = cursor.execute(\"SELECT DISTINCT surname|| ' ' || firstname AS members, sub_query.recommended_by FROM Members LEFT JOIN (SELECT m1.recommendedby, CASE WHEN m2.memid >0 THEN m2.surname || ' ' || m2.firstname ELSE '' END AS recommended_by FROM Members AS m1 LEFT JOIN Members AS m2 ON m1.recommendedby = m2.memid) AS sub_query ON Members.recommendedby = sub_query.recommendedby WHERE Members.recommendedby >0 ORDER BY surname\")\n",
    "results2 = pd.DataFrame(rs2.fetchall())\n",
    "results2.columns = [\"member\", \"recommendedby\"]\n",
    "print(results2)"
   ]
  },
  {
   "cell_type": "markdown",
   "id": "be51f889",
   "metadata": {},
   "source": [
    "Q.12 Find the facilities with their usage by member, but not guests"
   ]
  },
  {
   "cell_type": "code",
   "execution_count": 6,
   "id": "e48205cd",
   "metadata": {},
   "outputs": [
    {
     "name": "stdout",
     "output_type": "stream",
     "text": [
      "              name  member usage (slots)\n",
      "0   Tennis Court 1                   957\n",
      "1   Tennis Court 2                   882\n",
      "2  Badminton Court                  1086\n",
      "3     Table Tennis                   794\n",
      "4   Massage Room 1                   884\n",
      "5   Massage Room 2                    54\n",
      "6     Squash Court                   418\n",
      "7    Snooker Table                   860\n",
      "8       Pool Table                   856\n"
     ]
    }
   ],
   "source": [
    "rs3 = cursor.execute(\"SELECT name, SUM(slots) AS member_usage_slots FROM Facilities as f LEFT JOIN Bookings as b ON f.facid = b.facid WHERE b.memid > 0 GROUP BY f.facid\")\n",
    "results3 = pd.DataFrame(rs3.fetchall())\n",
    "results3.columns = [\"name\", \"member usage (slots)\"]\n",
    "print(results3)"
   ]
  },
  {
   "cell_type": "markdown",
   "id": "3bd6ba8c",
   "metadata": {},
   "source": [
    "Q.13 Find the facilities usage by month, but not guests"
   ]
  },
  {
   "cell_type": "code",
   "execution_count": 8,
   "id": "20a98032",
   "metadata": {},
   "outputs": [
    {
     "name": "stdout",
     "output_type": "stream",
     "text": [
      "               name month  member usage (slots)\n",
      "0    Massage Room 2    07                     8\n",
      "1      Squash Court    07                    50\n",
      "2      Table Tennis    07                    98\n",
      "3        Pool Table    07                   110\n",
      "4    Tennis Court 2    07                   123\n",
      "5     Snooker Table    07                   140\n",
      "6   Badminton Court    07                   165\n",
      "7    Massage Room 1    07                   166\n",
      "8    Tennis Court 1    07                   201\n",
      "9    Massage Room 2    08                    18\n",
      "10     Squash Court    08                   184\n",
      "11     Table Tennis    08                   296\n",
      "12       Pool Table    08                   303\n",
      "13   Massage Room 1    08                   316\n",
      "14    Snooker Table    08                   316\n",
      "15   Tennis Court 1    08                   339\n",
      "16   Tennis Court 2    08                   345\n",
      "17  Badminton Court    08                   414\n",
      "18   Massage Room 2    09                    28\n",
      "19     Squash Court    09                   184\n",
      "20     Table Tennis    09                   400\n",
      "21   Massage Room 1    09                   402\n",
      "22    Snooker Table    09                   404\n",
      "23   Tennis Court 2    09                   414\n",
      "24   Tennis Court 1    09                   417\n",
      "25       Pool Table    09                   443\n",
      "26  Badminton Court    09                   507\n"
     ]
    }
   ],
   "source": [
    "rs4 = cursor.execute(\"SELECT name, strftime('%m', starttime) AS month, SUM(slots) AS member_usage_slots FROM Facilities as f LEFT JOIN Bookings as b ON f.facid = b.facid WHERE b.memid > 0 GROUP BY f.facid, month ORDER BY month, member_usage_slots\")\n",
    "results4 = pd.DataFrame(rs4.fetchall())\n",
    "results4.columns = [\"name\",\"month\", \"member usage (slots)\"]\n",
    "print(results4)"
   ]
  }
 ],
 "metadata": {
  "kernelspec": {
   "display_name": "Python 3",
   "language": "python",
   "name": "python3"
  },
  "language_info": {
   "codemirror_mode": {
    "name": "ipython",
    "version": 3
   },
   "file_extension": ".py",
   "mimetype": "text/x-python",
   "name": "python",
   "nbconvert_exporter": "python",
   "pygments_lexer": "ipython3",
   "version": "3.8.8"
  }
 },
 "nbformat": 4,
 "nbformat_minor": 5
}
